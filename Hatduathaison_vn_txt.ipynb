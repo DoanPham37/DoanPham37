{
  "nbformat": 4,
  "nbformat_minor": 0,
  "metadata": {
    "colab": {
      "provenance": [],
      "authorship_tag": "ABX9TyO1Ll2IsUlmmodjoPpCpYUX",
      "include_colab_link": true
    },
    "kernelspec": {
      "name": "python3",
      "display_name": "Python 3"
    },
    "language_info": {
      "name": "python"
    }
  },
  "cells": [
    {
      "cell_type": "markdown",
      "metadata": {
        "id": "view-in-github",
        "colab_type": "text"
      },
      "source": [
        "<a href=\"https://colab.research.google.com/github/DoanPham37/DoanPham37/blob/main/Hatduathaison_vn_txt.ipynb\" target=\"_parent\"><img src=\"https://colab.research.google.com/assets/colab-badge.svg\" alt=\"Open In Colab\"/></a>"
      ]
    },
    {
      "cell_type": "markdown",
      "source": [
        "hạt dưa rang củi thái sơn với chất lượng cao luôn làm hài lòng người tiêu dùng https://hatduathaison.vn/"
      ],
      "metadata": {
        "id": "i8wAS0sg0N71"
      }
    }
  ]
}